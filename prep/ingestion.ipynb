{
 "cells": [
  {
   "cell_type": "markdown",
   "metadata": {},
   "source": [
    "### How we get the data from Yahoo Finance\n",
    "Used the Yfinance library"
   ]
  },
  {
   "cell_type": "code",
   "execution_count": null,
   "metadata": {},
   "outputs": [
    {
     "name": "stdout",
     "output_type": "stream",
     "text": [
      "YF.download() has changed argument auto_adjust default to True\n"
     ]
    },
    {
     "name": "stderr",
     "output_type": "stream",
     "text": [
      "[*********************100%***********************]  1 of 1 completed\n",
      "[*********************100%***********************]  1 of 1 completed\n",
      "[*********************100%***********************]  1 of 1 completed\n"
     ]
    },
    {
     "name": "stdout",
     "output_type": "stream",
     "text": [
      "Saved close data for NAVNETEDUL.NS to NAVNETEDUL.NS_close_data.csv\n",
      "Saved close data for 600757.SS to 600757.SS_close_data.csv\n",
      "Saved close data for 601858.SS to 601858.SS_close_data.csv\n"
     ]
    },
    {
     "name": "stderr",
     "output_type": "stream",
     "text": [
      "[*********************100%***********************]  1 of 1 completed\n"
     ]
    },
    {
     "name": "stdout",
     "output_type": "stream",
     "text": [
      "Saved close data for 300654.SZ to 300654.SZ_close_data.csv\n"
     ]
    },
    {
     "name": "stderr",
     "output_type": "stream",
     "text": [
      "404 Client Error: Not Found for url: https://query2.finance.yahoo.com/v10/finance/quoteSummary/601928.SH?modules=financialData%2CquoteType%2CdefaultKeyStatistics%2CassetProfile%2CsummaryDetail&corsDomain=finance.yahoo.com&formatted=false&symbol=601928.SH&crumb=FJ7FpfY%2F8ep\n",
      "[*********************100%***********************]  1 of 1 completed\n",
      "\n",
      "1 Failed download:\n",
      "['601928.SH']: AttributeError(\"'NoneType' object has no attribute 'update'\")\n"
     ]
    },
    {
     "name": "stdout",
     "output_type": "stream",
     "text": [
      "Saved close data for 601928.SH to 601928.SH_close_data.csv\n"
     ]
    },
    {
     "name": "stderr",
     "output_type": "stream",
     "text": [
      "[*********************100%***********************]  1 of 1 completed\n",
      "\n",
      "1 Failed download:\n",
      "['PSON']: YFTzMissingError('possibly delisted; no timezone found')\n",
      "[*********************100%***********************]  1 of 1 completed\n",
      "[*********************100%***********************]  1 of 1 completed\n"
     ]
    },
    {
     "name": "stdout",
     "output_type": "stream",
     "text": [
      "Saved close data for PSON to PSON_close_data.csv\n",
      "Saved close data for 300359.SZ to 300359.SZ_close_data.csv\n"
     ]
    },
    {
     "name": "stderr",
     "output_type": "stream",
     "text": [
      "[*********************100%***********************]  1 of 1 completed\n",
      "\n",
      "1 Failed download:\n",
      "['FPT.VN']: ValueError('Length mismatch: Expected axis has 2 elements, new values have 1 elements')\n",
      "[*********************100%***********************]  1 of 1 completed\n"
     ]
    },
    {
     "name": "stdout",
     "output_type": "stream",
     "text": [
      "Saved close data for 4323.T to 4323.T_close_data.csv\n",
      "Saved close data for FPT.VN to FPT.VN_close_data.csv\n",
      "Saved close data for DSY.PA to DSY.PA_close_data.csv\n"
     ]
    },
    {
     "name": "stderr",
     "output_type": "stream",
     "text": [
      "[*********************100%***********************]  1 of 1 completed\n",
      "[*********************100%***********************]  1 of 1 completed\n",
      "[*********************100%***********************]  1 of 1 completed"
     ]
    },
    {
     "name": "stdout",
     "output_type": "stream",
     "text": [
      "Saved close data for CAP.PA to CAP.PA_close_data.csv\n",
      "Saved close data for OMG.L to OMG.L_close_data.csv\n"
     ]
    },
    {
     "name": "stderr",
     "output_type": "stream",
     "text": [
      "\n",
      "[*********************100%***********************]  1 of 1 completed\n"
     ]
    },
    {
     "name": "stdout",
     "output_type": "stream",
     "text": [
      "Saved close data for 300338.SZ to 300338.SZ_close_data.csv\n",
      "Saved close data for YDUQ3.SA to YDUQ3.SA_close_data.csv\n"
     ]
    },
    {
     "name": "stderr",
     "output_type": "stream",
     "text": [
      "[*********************100%***********************]  1 of 1 completed\n",
      "[*********************100%***********************]  1 of 1 completed\n",
      "[*********************100%***********************]  1 of 1 completed\n"
     ]
    },
    {
     "name": "stdout",
     "output_type": "stream",
     "text": [
      "Saved close data for COGN3.SA to COGN3.SA_close_data.csv\n",
      "Saved close data for 000526.SZ to 000526.SZ_close_data.csv\n",
      "Saved close data for 003032.SZ to 003032.SZ_close_data.csv\n"
     ]
    },
    {
     "name": "stderr",
     "output_type": "stream",
     "text": [
      "[*********************100%***********************]  1 of 1 completed\n",
      "[*********************100%***********************]  1 of 1 completed\n"
     ]
    },
    {
     "name": "stdout",
     "output_type": "stream",
     "text": [
      "Saved close data for ACAD.ST to ACAD.ST_close_data.csv\n",
      "Saved close data for 215200.KQ to 215200.KQ_close_data.csv\n"
     ]
    },
    {
     "name": "stderr",
     "output_type": "stream",
     "text": [
      "[*********************100%***********************]  1 of 1 completed\n",
      "[*********************100%***********************]  1 of 1 completed\n",
      "[*********************100%***********************]  1 of 1 completed\n"
     ]
    },
    {
     "name": "stdout",
     "output_type": "stream",
     "text": [
      "Saved close data for RM.L to RM.L_close_data.csv\n",
      "Saved close data for ATGE to ATGE_close_data.csv\n",
      "Saved close data for APEI to APEI_close_data.csv\n"
     ]
    },
    {
     "name": "stderr",
     "output_type": "stream",
     "text": [
      "[*********************100%***********************]  1 of 1 completed\n",
      "[*********************100%***********************]  1 of 1 completed\n",
      "[*********************100%***********************]  1 of 1 completed\n"
     ]
    },
    {
     "name": "stdout",
     "output_type": "stream",
     "text": [
      "Saved close data for BFAM to BFAM_close_data.csv\n",
      "Saved close data for COUR to COUR_close_data.csv\n",
      "Saved close data for LOPE to LOPE_close_data.csv\n"
     ]
    },
    {
     "name": "stderr",
     "output_type": "stream",
     "text": [
      "[*********************100%***********************]  1 of 1 completed\n",
      "[*********************100%***********************]  1 of 1 completed\n",
      "[*********************100%***********************]  1 of 1 completed\n"
     ]
    },
    {
     "name": "stdout",
     "output_type": "stream",
     "text": [
      "Saved close data for LAUR to LAUR_close_data.csv\n",
      "Saved close data for LINC to LINC_close_data.csv\n",
      "Saved close data for LRN to LRN_close_data.csv\n"
     ]
    },
    {
     "name": "stderr",
     "output_type": "stream",
     "text": [
      "[*********************100%***********************]  1 of 1 completed\n",
      "[*********************100%***********************]  1 of 1 completed\n"
     ]
    },
    {
     "name": "stdout",
     "output_type": "stream",
     "text": [
      "Saved close data for UDMY to UDMY_close_data.csv\n",
      "Saved close data for STRA to STRA_close_data.csv\n"
     ]
    },
    {
     "name": "stderr",
     "output_type": "stream",
     "text": [
      "[*********************100%***********************]  1 of 1 completed\n",
      "[*********************100%***********************]  1 of 1 completed\n",
      "[*********************100%***********************]  1 of 1 completed"
     ]
    },
    {
     "name": "stdout",
     "output_type": "stream",
     "text": [
      "Saved close data for UTI to UTI_close_data.csv\n",
      "Saved close data for AFYA to AFYA_close_data.csv\n",
      "Saved close data for QSG to QSG_close_data.csv\n"
     ]
    },
    {
     "name": "stderr",
     "output_type": "stream",
     "text": [
      "\n"
     ]
    }
   ],
   "source": [
    "import yfinance as yf\n",
    "import pandas as pd\n",
    "\n",
    "# tickers\n",
    "tickers = [\n",
    "    \"NAVNETEDUL.NS\", \"600757.SS\", \"601858.SS\", \"300654.SZ\", \"601928.SH\", \"PSON\",\n",
    "    \"300359.SZ\", \"4323.T\", \"FPT.VN\", \"DSY.PA\", \"CAP.PA\", \"OMG.L\", \"300338.SZ\",\n",
    "    \"YDUQ3.SA\", \"COGN3.SA\", \"000526.SZ\", \"003032.SZ\", \"ACAD.ST\", \"215200.KQ\", \n",
    "    \"RM.L\", \"ATGE\", \"APEI\", \"BFAM\", \"COUR\", \"LOPE\", \"LAUR\", \"LINC\", \"LRN\", \n",
    "    \"UDMY\", \"STRA\", \"UTI\", \"AFYA\", \"QSG\"\n",
    "]\n",
    "\n",
    "# start and end dates\n",
    "start_date = \"2020-04-01\"\n",
    "end_date = \"2025-04-01\"\n",
    "\n",
    "# Loop + download the data\n",
    "for ticker in tickers:\n",
    "    # Download the historical data\n",
    "    data = yf.download(ticker, start=start_date, end=end_date)\n",
    "\n",
    "    # Extract the close as we don't need the rest (already in excel)\n",
    "    close_data = data[['Close']]\n",
    "\n",
    "    # save with ticker name in file name for easy merging later\n",
    "    file_name = f\"{ticker}_close_data.csv\"\n",
    "    close_data.to_csv(file_name)\n",
    "    print(f\"Saved close data for {ticker} to {file_name}\")"
   ]
  },
  {
   "cell_type": "code",
   "execution_count": null,
   "metadata": {},
   "outputs": [
    {
     "name": "stderr",
     "output_type": "stream",
     "text": [
      "[*********************100%***********************]  1 of 1 completed\n",
      "[*********************100%***********************]  1 of 1 completed\n",
      "\n",
      "1 Failed download:\n",
      "['FPT.VN']: ValueError('Length mismatch: Expected axis has 2 elements, new values have 1 elements')\n",
      "[*********************100%***********************]  1 of 1 completed"
     ]
    },
    {
     "name": "stdout",
     "output_type": "stream",
     "text": [
      "Saved close data for PSON.L to PSON.L_close_data.csv\n",
      "No data found for FPT.VN\n",
      "Saved close data for QSG to QSG_close_data.csv\n"
     ]
    },
    {
     "name": "stderr",
     "output_type": "stream",
     "text": [
      "\n"
     ]
    }
   ],
   "source": [
    "import yfinance as yf\n",
    "import pandas as pd\n",
    "\n",
    "# Tickers that failed previously\n",
    "tickers = [\"PSON.L\", \"FPT.VN\", \"QSG\"]\n",
    "\n",
    "# Define date range\n",
    "start_date = \"2020-04-01\"\n",
    "end_date = \"2025-04-01\"\n",
    "\n",
    "# downloading each one individually\n",
    "for ticker in tickers:\n",
    "    try:\n",
    "        data = yf.download(ticker, start=start_date, end=end_date)\n",
    "        \n",
    "        if data.empty:\n",
    "            print(f\"No data found for {ticker}\")\n",
    "            continue\n",
    "\n",
    "        close_data = data[['Close']]\n",
    "        file_name = f\"{ticker}_close_data.csv\"\n",
    "        close_data.to_csv(file_name)\n",
    "        print(f\"Saved close data for {ticker} to {file_name}\")\n",
    "\n",
    "    except Exception as e:\n",
    "        print(f\"Failed to get data for {ticker}: {e}\")"
   ]
  },
  {
   "cell_type": "code",
   "execution_count": null,
   "metadata": {},
   "outputs": [
    {
     "name": "stdout",
     "output_type": "stream",
     "text": [
      "Company Name: QuantaSing Group Limited\n",
      "Exchange: NGM\n",
      "Sector: Consumer Defensive\n"
     ]
    }
   ],
   "source": [
    "import yfinance as yf\n",
    "\n",
    "ticker = \"QSG\"\n",
    "data = yf.Ticker(ticker)\n",
    "\n",
    "# getting more data from Yfinance\n",
    "info = data.info\n",
    "print(\"Company Name:\", info.get(\"longName\"))\n",
    "print(\"Exchange:\", info.get(\"exchange\"))\n",
    "print(\"Sector:\", info.get(\"sector\"))\n"
   ]
  },
  {
   "cell_type": "code",
   "execution_count": null,
   "metadata": {},
   "outputs": [
    {
     "name": "stdout",
     "output_type": "stream",
     "text": [
      "YF.download() has changed argument auto_adjust default to True\n"
     ]
    },
    {
     "name": "stderr",
     "output_type": "stream",
     "text": [
      "[*********************100%***********************]  1 of 1 completed\n",
      "\n",
      "1 Failed download:\n",
      "['FPT.VN']: ValueError('Length mismatch: Expected axis has 2 elements, new values have 1 elements')\n"
     ]
    },
    {
     "data": {
      "text/html": [
       "<div>\n",
       "<style scoped>\n",
       "    .dataframe tbody tr th:only-of-type {\n",
       "        vertical-align: middle;\n",
       "    }\n",
       "\n",
       "    .dataframe tbody tr th {\n",
       "        vertical-align: top;\n",
       "    }\n",
       "\n",
       "    .dataframe thead tr th {\n",
       "        text-align: left;\n",
       "    }\n",
       "\n",
       "    .dataframe thead tr:last-of-type th {\n",
       "        text-align: right;\n",
       "    }\n",
       "</style>\n",
       "<table border=\"1\" class=\"dataframe\">\n",
       "  <thead>\n",
       "    <tr>\n",
       "      <th>Price</th>\n",
       "      <th>Adj Close</th>\n",
       "      <th>Close</th>\n",
       "      <th>High</th>\n",
       "      <th>Low</th>\n",
       "      <th>Open</th>\n",
       "      <th>Volume</th>\n",
       "    </tr>\n",
       "    <tr>\n",
       "      <th>Ticker</th>\n",
       "      <th>FPT.VN</th>\n",
       "      <th>FPT.VN</th>\n",
       "      <th>FPT.VN</th>\n",
       "      <th>FPT.VN</th>\n",
       "      <th>FPT.VN</th>\n",
       "      <th>FPT.VN</th>\n",
       "    </tr>\n",
       "    <tr>\n",
       "      <th>Date</th>\n",
       "      <th></th>\n",
       "      <th></th>\n",
       "      <th></th>\n",
       "      <th></th>\n",
       "      <th></th>\n",
       "      <th></th>\n",
       "    </tr>\n",
       "  </thead>\n",
       "  <tbody>\n",
       "  </tbody>\n",
       "</table>\n",
       "</div>"
      ],
      "text/plain": [
       "Empty DataFrame\n",
       "Columns: [(Adj Close, FPT.VN), (Close, FPT.VN), (High, FPT.VN), (Low, FPT.VN), (Open, FPT.VN), (Volume, FPT.VN)]\n",
       "Index: []"
      ]
     },
     "execution_count": 1,
     "metadata": {},
     "output_type": "execute_result"
    }
   ],
   "source": [
    "import yfinance as yf\n",
    "#this one is not working\n",
    "ticker = \"FPT.VN\"\n",
    "data = yf.download(ticker, start=\"2020-04-01\", end=\"2025-04-01\")\n",
    "data.head()"
   ]
  }
 ],
 "metadata": {
  "kernelspec": {
   "display_name": "base",
   "language": "python",
   "name": "python3"
  },
  "language_info": {
   "codemirror_mode": {
    "name": "ipython",
    "version": 3
   },
   "file_extension": ".py",
   "mimetype": "text/x-python",
   "name": "python",
   "nbconvert_exporter": "python",
   "pygments_lexer": "ipython3",
   "version": "3.12.2"
  }
 },
 "nbformat": 4,
 "nbformat_minor": 2
}
