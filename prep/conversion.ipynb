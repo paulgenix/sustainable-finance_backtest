{
 "cells": [
  {
   "cell_type": "code",
   "execution_count": null,
   "metadata": {},
   "outputs": [
    {
     "name": "stdout",
     "output_type": "stream",
     "text": [
      "Conversion completed successfully. The new CSV is saved as 'combined_stock_data_in_usd.csv'.\n"
     ]
    },
    {
     "name": "stderr",
     "output_type": "stream",
     "text": [
      "/var/folders/mh/fnysm72j3g53gdg3ld3708nw0000gn/T/ipykernel_91356/2390591845.py:61: FutureWarning: A value is trying to be set on a copy of a DataFrame or Series through chained assignment using an inplace method.\n",
      "The behavior will change in pandas 3.0. This inplace method will never work because the intermediate object on which we are setting values always behaves as a copy.\n",
      "\n",
      "For example, when doing 'df[col].method(value, inplace=True)', try using 'df.method({col: value}, inplace=True)' or df[col] = df[col].method(value) instead, to perform the operation inplace on the original object.\n",
      "\n",
      "\n",
      "  aligned_fx['FX_rate'].fillna(method='ffill', inplace=True)\n",
      "/var/folders/mh/fnysm72j3g53gdg3ld3708nw0000gn/T/ipykernel_91356/2390591845.py:61: FutureWarning: Series.fillna with 'method' is deprecated and will raise in a future version. Use obj.ffill() or obj.bfill() instead.\n",
      "  aligned_fx['FX_rate'].fillna(method='ffill', inplace=True)\n",
      "/var/folders/mh/fnysm72j3g53gdg3ld3708nw0000gn/T/ipykernel_91356/2390591845.py:62: FutureWarning: A value is trying to be set on a copy of a DataFrame or Series through chained assignment using an inplace method.\n",
      "The behavior will change in pandas 3.0. This inplace method will never work because the intermediate object on which we are setting values always behaves as a copy.\n",
      "\n",
      "For example, when doing 'df[col].method(value, inplace=True)', try using 'df.method({col: value}, inplace=True)' or df[col] = df[col].method(value) instead, to perform the operation inplace on the original object.\n",
      "\n",
      "\n",
      "  aligned_fx['FX_rate'].fillna(method='bfill', inplace=True)\n",
      "/var/folders/mh/fnysm72j3g53gdg3ld3708nw0000gn/T/ipykernel_91356/2390591845.py:62: FutureWarning: Series.fillna with 'method' is deprecated and will raise in a future version. Use obj.ffill() or obj.bfill() instead.\n",
      "  aligned_fx['FX_rate'].fillna(method='bfill', inplace=True)\n",
      "/var/folders/mh/fnysm72j3g53gdg3ld3708nw0000gn/T/ipykernel_91356/2390591845.py:63: FutureWarning: A value is trying to be set on a copy of a DataFrame or Series through chained assignment using an inplace method.\n",
      "The behavior will change in pandas 3.0. This inplace method will never work because the intermediate object on which we are setting values always behaves as a copy.\n",
      "\n",
      "For example, when doing 'df[col].method(value, inplace=True)', try using 'df.method({col: value}, inplace=True)' or df[col] = df[col].method(value) instead, to perform the operation inplace on the original object.\n",
      "\n",
      "\n",
      "  aligned_fx['FX_rate'].fillna(1, inplace=True)\n"
     ]
    }
   ],
   "source": [
    "import pandas as pd\n",
    "import glob\n",
    "import os\n",
    "\n",
    "stock_data = pd.read_csv('/Users/paul/Desktop/financetest/combined_stock_data.csv', parse_dates=['Date'])\n",
    "stock_data.set_index('Date', inplace=True)\n",
    "\n",
    "tickers_and_currencies = pd.read_csv('/Users/paul/Desktop/financetest/fx_data/tickers_and_currencies.csv')\n",
    "\n",
    "#load all FX rate data from the folder\n",
    "fx_data = {}\n",
    "\n",
    "fx_folder_path = '/Users/paul/Desktop/financetest/fx_data/'\n",
    "\n",
    "fx_files = glob.glob(os.path.join(fx_folder_path, '*_to_usd.csv'))\n",
    "\n",
    "for fx_file in fx_files:\n",
    "    # Extract currency from the file name ('BRL_to_usd.csv' -> 'BRL')\n",
    "    currency = os.path.basename(fx_file).split('_')[0]\n",
    "    \n",
    "    # Load the FX data from the CSV file\n",
    "    fx_df = pd.read_csv(fx_file, parse_dates=['Date'])\n",
    "    \n",
    "    fx_df['FX_rate'] = pd.to_numeric(fx_df['FX_rate'], errors='coerce')\n",
    "    \n",
    "    # Remove duplicates\n",
    "    fx_df = fx_df.drop_duplicates(subset='Date')\n",
    "    \n",
    "    fx_data[currency] = fx_df\n",
    "\n",
    "for ticker, currency in zip(tickers_and_currencies['Ticker'], tickers_and_currencies['Currency']):\n",
    "    if currency != 'USD': \n",
    "        stock_prices = stock_data[ticker].copy()\n",
    "        \n",
    "        stock_prices = pd.to_numeric(stock_prices, errors='coerce')\n",
    "        \n",
    "        fx_rates = fx_data[currency].copy()\n",
    "        \n",
    "        if 'Date' in fx_rates.columns:\n",
    "            fx_rates.set_index('Date', inplace=True)\n",
    "        \n",
    "        # Remove duplicate dates in both datasets\n",
    "        stock_prices = stock_prices[~stock_prices.index.duplicated(keep='first')]\n",
    "        fx_rates = fx_rates[~fx_rates.index.duplicated(keep='first')]\n",
    "        \n",
    "  \n",
    "        aligned_fx = fx_rates.reindex(stock_prices.index)\n",
    "        \n",
    "        aligned_fx['FX_rate'].fillna(method='ffill', inplace=True)\n",
    "        aligned_fx['FX_rate'].fillna(method='bfill', inplace=True)\n",
    "        aligned_fx['FX_rate'].fillna(1, inplace=True)\n",
    "        \n",
    "        # Convert to USD here: \n",
    "        stock_data.loc[stock_prices.index, ticker] = stock_prices * aligned_fx['FX_rate']\n",
    "\n",
    "stock_data.to_csv('/Users/paul/Desktop/financetest/combined_stock_data_in_usd.csv')\n"
   ]
  }
 ],
 "metadata": {
  "kernelspec": {
   "display_name": "base",
   "language": "python",
   "name": "python3"
  },
  "language_info": {
   "codemirror_mode": {
    "name": "ipython",
    "version": 3
   },
   "file_extension": ".py",
   "mimetype": "text/x-python",
   "name": "python",
   "nbconvert_exporter": "python",
   "pygments_lexer": "ipython3",
   "version": "3.12.2"
  }
 },
 "nbformat": 4,
 "nbformat_minor": 2
}
