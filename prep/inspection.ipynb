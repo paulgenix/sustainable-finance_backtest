{
 "cells": [
  {
   "cell_type": "markdown",
   "metadata": {},
   "source": [
    "Helps us quickly see what didn't get fetched from the API"
   ]
  },
  {
   "cell_type": "code",
   "execution_count": null,
   "metadata": {},
   "outputs": [
    {
     "name": "stdout",
     "output_type": "stream",
     "text": [
      "COUR              301\n",
      "DSY.PA             24\n",
      "COGN3.SA           63\n",
      "UDMY              449\n",
      "STRA               50\n",
      "215200.KQ          83\n",
      "UTI                50\n",
      "APEI               50\n",
      "ACAD.ST            47\n",
      "BFAM               50\n",
      "QSG               759\n",
      "600757.SS          95\n",
      "300654.SZ          95\n",
      "AFYA               50\n",
      "000526.SZ          95\n",
      "003032.SZ         286\n",
      "CAP.PA             24\n",
      "300359.SZ          95\n",
      "LRN                50\n",
      "FPT.VN           1306\n",
      "601928.SH        1306\n",
      "601858.SS          95\n",
      "300338.SZ          95\n",
      "RM.L               45\n",
      "LINC               50\n",
      "NAVNETEDUL.NS      69\n",
      "LOPE               50\n",
      "4323.T             85\n",
      "OMG.L              45\n",
      "ATGE               50\n",
      "LAUR               50\n",
      "PSON             1306\n",
      "YDUQ3.SA           63\n",
      "dtype: int64\n"
     ]
    }
   ],
   "source": [
    "import pandas as pd\n",
    "\n",
    "df = pd.read_csv('/Users/paul/Desktop/financetest/combined_stock_data.csv')\n",
    "\n",
    "# Check columns with missing data\n",
    "missing_data = df.isnull().sum()\n",
    "\n",
    "# filter\n",
    "stocks_with_missing_data = missing_data[missing_data > 0]\n",
    "\n",
    "print(stocks_with_missing_data)"
   ]
  }
 ],
 "metadata": {
  "kernelspec": {
   "display_name": "base",
   "language": "python",
   "name": "python3"
  },
  "language_info": {
   "codemirror_mode": {
    "name": "ipython",
    "version": 3
   },
   "file_extension": ".py",
   "mimetype": "text/x-python",
   "name": "python",
   "nbconvert_exporter": "python",
   "pygments_lexer": "ipython3",
   "version": "3.12.2"
  }
 },
 "nbformat": 4,
 "nbformat_minor": 2
}
